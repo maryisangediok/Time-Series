{
  "nbformat": 4,
  "nbformat_minor": 0,
  "metadata": {
    "colab": {
      "name": "BitcoinPricePrediction2022.ipynb",
      "provenance": [],
      "collapsed_sections": [],
      "authorship_tag": "ABX9TyNdx2tOboSWnSNOWToWymFj",
      "include_colab_link": true
    },
    "kernelspec": {
      "name": "python3",
      "display_name": "Python 3"
    },
    "language_info": {
      "name": "python"
    }
  },
  "cells": [
    {
      "cell_type": "markdown",
      "metadata": {
        "id": "view-in-github",
        "colab_type": "text"
      },
      "source": [
        "<a href=\"https://colab.research.google.com/github/maryisangediok/Bitcoin-Prediction-2022/blob/main/BitcoinPricePrediction2022.ipynb\" target=\"_parent\"><img src=\"https://colab.research.google.com/assets/colab-badge.svg\" alt=\"Open In Colab\"/></a>"
      ]
    },
    {
      "cell_type": "code",
      "execution_count": 22,
      "metadata": {
        "colab": {
          "base_uri": "https://localhost:8080/"
        },
        "id": "9j34BX2-MdoV",
        "outputId": "33c70c22-a002-4c4f-9046-abe2409a2e7c"
      },
      "outputs": [
        {
          "output_type": "stream",
          "name": "stdout",
          "text": [
            "Drive already mounted at /content/drive; to attempt to forcibly remount, call drive.mount(\"/content/drive\", force_remount=True).\n"
          ]
        }
      ],
      "source": [
        "from google.colab import drive\n",
        "drive.mount('/content/drive')\n",
        "\n",
        "#FOLDERNAME = 'creditcard/'"
      ]
    },
    {
      "cell_type": "code",
      "source": [
        "# load data\n",
        "import pandas as pd\n",
        "path = '/content/drive/MyDrive/btc-usd-max.csv'\n",
        "data = pd.read_csv(path, index_col=0)"
      ],
      "metadata": {
        "id": "0fwToOFOM_CI"
      },
      "execution_count": 23,
      "outputs": []
    },
    {
      "cell_type": "code",
      "source": [
        "data.head(5)"
      ],
      "metadata": {
        "colab": {
          "base_uri": "https://localhost:8080/",
          "height": 237
        },
        "id": "nzTsx49WNeWu",
        "outputId": "55454f0e-35c4-4af5-e368-9637a0c586cc"
      },
      "execution_count": 24,
      "outputs": [
        {
          "output_type": "execute_result",
          "data": {
            "text/plain": [
              "                          price    market_cap  total_volume\n",
              "snapped_at                                                 \n",
              "2013-04-28 00:00:00 UTC  135.30  1.500518e+09           0.0\n",
              "2013-04-29 00:00:00 UTC  141.96  1.575032e+09           0.0\n",
              "2013-04-30 00:00:00 UTC  135.30  1.501657e+09           0.0\n",
              "2013-05-01 00:00:00 UTC  117.00  1.298952e+09           0.0\n",
              "2013-05-02 00:00:00 UTC  103.43  1.148668e+09           0.0"
            ],
            "text/html": [
              "\n",
              "  <div id=\"df-b6e46b6d-be38-4204-9068-5afd76e0c194\">\n",
              "    <div class=\"colab-df-container\">\n",
              "      <div>\n",
              "<style scoped>\n",
              "    .dataframe tbody tr th:only-of-type {\n",
              "        vertical-align: middle;\n",
              "    }\n",
              "\n",
              "    .dataframe tbody tr th {\n",
              "        vertical-align: top;\n",
              "    }\n",
              "\n",
              "    .dataframe thead th {\n",
              "        text-align: right;\n",
              "    }\n",
              "</style>\n",
              "<table border=\"1\" class=\"dataframe\">\n",
              "  <thead>\n",
              "    <tr style=\"text-align: right;\">\n",
              "      <th></th>\n",
              "      <th>price</th>\n",
              "      <th>market_cap</th>\n",
              "      <th>total_volume</th>\n",
              "    </tr>\n",
              "    <tr>\n",
              "      <th>snapped_at</th>\n",
              "      <th></th>\n",
              "      <th></th>\n",
              "      <th></th>\n",
              "    </tr>\n",
              "  </thead>\n",
              "  <tbody>\n",
              "    <tr>\n",
              "      <th>2013-04-28 00:00:00 UTC</th>\n",
              "      <td>135.30</td>\n",
              "      <td>1.500518e+09</td>\n",
              "      <td>0.0</td>\n",
              "    </tr>\n",
              "    <tr>\n",
              "      <th>2013-04-29 00:00:00 UTC</th>\n",
              "      <td>141.96</td>\n",
              "      <td>1.575032e+09</td>\n",
              "      <td>0.0</td>\n",
              "    </tr>\n",
              "    <tr>\n",
              "      <th>2013-04-30 00:00:00 UTC</th>\n",
              "      <td>135.30</td>\n",
              "      <td>1.501657e+09</td>\n",
              "      <td>0.0</td>\n",
              "    </tr>\n",
              "    <tr>\n",
              "      <th>2013-05-01 00:00:00 UTC</th>\n",
              "      <td>117.00</td>\n",
              "      <td>1.298952e+09</td>\n",
              "      <td>0.0</td>\n",
              "    </tr>\n",
              "    <tr>\n",
              "      <th>2013-05-02 00:00:00 UTC</th>\n",
              "      <td>103.43</td>\n",
              "      <td>1.148668e+09</td>\n",
              "      <td>0.0</td>\n",
              "    </tr>\n",
              "  </tbody>\n",
              "</table>\n",
              "</div>\n",
              "      <button class=\"colab-df-convert\" onclick=\"convertToInteractive('df-b6e46b6d-be38-4204-9068-5afd76e0c194')\"\n",
              "              title=\"Convert this dataframe to an interactive table.\"\n",
              "              style=\"display:none;\">\n",
              "        \n",
              "  <svg xmlns=\"http://www.w3.org/2000/svg\" height=\"24px\"viewBox=\"0 0 24 24\"\n",
              "       width=\"24px\">\n",
              "    <path d=\"M0 0h24v24H0V0z\" fill=\"none\"/>\n",
              "    <path d=\"M18.56 5.44l.94 2.06.94-2.06 2.06-.94-2.06-.94-.94-2.06-.94 2.06-2.06.94zm-11 1L8.5 8.5l.94-2.06 2.06-.94-2.06-.94L8.5 2.5l-.94 2.06-2.06.94zm10 10l.94 2.06.94-2.06 2.06-.94-2.06-.94-.94-2.06-.94 2.06-2.06.94z\"/><path d=\"M17.41 7.96l-1.37-1.37c-.4-.4-.92-.59-1.43-.59-.52 0-1.04.2-1.43.59L10.3 9.45l-7.72 7.72c-.78.78-.78 2.05 0 2.83L4 21.41c.39.39.9.59 1.41.59.51 0 1.02-.2 1.41-.59l7.78-7.78 2.81-2.81c.8-.78.8-2.07 0-2.86zM5.41 20L4 18.59l7.72-7.72 1.47 1.35L5.41 20z\"/>\n",
              "  </svg>\n",
              "      </button>\n",
              "      \n",
              "  <style>\n",
              "    .colab-df-container {\n",
              "      display:flex;\n",
              "      flex-wrap:wrap;\n",
              "      gap: 12px;\n",
              "    }\n",
              "\n",
              "    .colab-df-convert {\n",
              "      background-color: #E8F0FE;\n",
              "      border: none;\n",
              "      border-radius: 50%;\n",
              "      cursor: pointer;\n",
              "      display: none;\n",
              "      fill: #1967D2;\n",
              "      height: 32px;\n",
              "      padding: 0 0 0 0;\n",
              "      width: 32px;\n",
              "    }\n",
              "\n",
              "    .colab-df-convert:hover {\n",
              "      background-color: #E2EBFA;\n",
              "      box-shadow: 0px 1px 2px rgba(60, 64, 67, 0.3), 0px 1px 3px 1px rgba(60, 64, 67, 0.15);\n",
              "      fill: #174EA6;\n",
              "    }\n",
              "\n",
              "    [theme=dark] .colab-df-convert {\n",
              "      background-color: #3B4455;\n",
              "      fill: #D2E3FC;\n",
              "    }\n",
              "\n",
              "    [theme=dark] .colab-df-convert:hover {\n",
              "      background-color: #434B5C;\n",
              "      box-shadow: 0px 1px 3px 1px rgba(0, 0, 0, 0.15);\n",
              "      filter: drop-shadow(0px 1px 2px rgba(0, 0, 0, 0.3));\n",
              "      fill: #FFFFFF;\n",
              "    }\n",
              "  </style>\n",
              "\n",
              "      <script>\n",
              "        const buttonEl =\n",
              "          document.querySelector('#df-b6e46b6d-be38-4204-9068-5afd76e0c194 button.colab-df-convert');\n",
              "        buttonEl.style.display =\n",
              "          google.colab.kernel.accessAllowed ? 'block' : 'none';\n",
              "\n",
              "        async function convertToInteractive(key) {\n",
              "          const element = document.querySelector('#df-b6e46b6d-be38-4204-9068-5afd76e0c194');\n",
              "          const dataTable =\n",
              "            await google.colab.kernel.invokeFunction('convertToInteractive',\n",
              "                                                     [key], {});\n",
              "          if (!dataTable) return;\n",
              "\n",
              "          const docLinkHtml = 'Like what you see? Visit the ' +\n",
              "            '<a target=\"_blank\" href=https://colab.research.google.com/notebooks/data_table.ipynb>data table notebook</a>'\n",
              "            + ' to learn more about interactive tables.';\n",
              "          element.innerHTML = '';\n",
              "          dataTable['output_type'] = 'display_data';\n",
              "          await google.colab.output.renderOutput(dataTable, element);\n",
              "          const docLink = document.createElement('div');\n",
              "          docLink.innerHTML = docLinkHtml;\n",
              "          element.appendChild(docLink);\n",
              "        }\n",
              "      </script>\n",
              "    </div>\n",
              "  </div>\n",
              "  "
            ]
          },
          "metadata": {},
          "execution_count": 24
        }
      ]
    },
    {
      "cell_type": "code",
      "source": [
        "data.describe()"
      ],
      "metadata": {
        "colab": {
          "base_uri": "https://localhost:8080/",
          "height": 300
        },
        "id": "HkqjLmoSNhSt",
        "outputId": "908bcad9-2247-41e0-a9d0-ed2a9b22087c"
      },
      "execution_count": 25,
      "outputs": [
        {
          "output_type": "execute_result",
          "data": {
            "text/plain": [
              "              price    market_cap  total_volume\n",
              "count   3336.000000  3.335000e+03  3.336000e+03\n",
              "mean   10578.755357  1.946524e+11  1.273077e+10\n",
              "std    15922.365316  3.005564e+11  1.840861e+10\n",
              "min       67.809000  7.713681e+08  0.000000e+00\n",
              "25%      455.045225  6.601816e+09  9.089825e+07\n",
              "50%     3906.972352  6.791402e+10  2.494279e+09\n",
              "75%    10183.196885  1.824630e+11  2.274793e+10\n",
              "max    67617.015545  1.278798e+12  1.788941e+11"
            ],
            "text/html": [
              "\n",
              "  <div id=\"df-838c5557-ffea-43bb-96b7-d1484ba24a9d\">\n",
              "    <div class=\"colab-df-container\">\n",
              "      <div>\n",
              "<style scoped>\n",
              "    .dataframe tbody tr th:only-of-type {\n",
              "        vertical-align: middle;\n",
              "    }\n",
              "\n",
              "    .dataframe tbody tr th {\n",
              "        vertical-align: top;\n",
              "    }\n",
              "\n",
              "    .dataframe thead th {\n",
              "        text-align: right;\n",
              "    }\n",
              "</style>\n",
              "<table border=\"1\" class=\"dataframe\">\n",
              "  <thead>\n",
              "    <tr style=\"text-align: right;\">\n",
              "      <th></th>\n",
              "      <th>price</th>\n",
              "      <th>market_cap</th>\n",
              "      <th>total_volume</th>\n",
              "    </tr>\n",
              "  </thead>\n",
              "  <tbody>\n",
              "    <tr>\n",
              "      <th>count</th>\n",
              "      <td>3336.000000</td>\n",
              "      <td>3.335000e+03</td>\n",
              "      <td>3.336000e+03</td>\n",
              "    </tr>\n",
              "    <tr>\n",
              "      <th>mean</th>\n",
              "      <td>10578.755357</td>\n",
              "      <td>1.946524e+11</td>\n",
              "      <td>1.273077e+10</td>\n",
              "    </tr>\n",
              "    <tr>\n",
              "      <th>std</th>\n",
              "      <td>15922.365316</td>\n",
              "      <td>3.005564e+11</td>\n",
              "      <td>1.840861e+10</td>\n",
              "    </tr>\n",
              "    <tr>\n",
              "      <th>min</th>\n",
              "      <td>67.809000</td>\n",
              "      <td>7.713681e+08</td>\n",
              "      <td>0.000000e+00</td>\n",
              "    </tr>\n",
              "    <tr>\n",
              "      <th>25%</th>\n",
              "      <td>455.045225</td>\n",
              "      <td>6.601816e+09</td>\n",
              "      <td>9.089825e+07</td>\n",
              "    </tr>\n",
              "    <tr>\n",
              "      <th>50%</th>\n",
              "      <td>3906.972352</td>\n",
              "      <td>6.791402e+10</td>\n",
              "      <td>2.494279e+09</td>\n",
              "    </tr>\n",
              "    <tr>\n",
              "      <th>75%</th>\n",
              "      <td>10183.196885</td>\n",
              "      <td>1.824630e+11</td>\n",
              "      <td>2.274793e+10</td>\n",
              "    </tr>\n",
              "    <tr>\n",
              "      <th>max</th>\n",
              "      <td>67617.015545</td>\n",
              "      <td>1.278798e+12</td>\n",
              "      <td>1.788941e+11</td>\n",
              "    </tr>\n",
              "  </tbody>\n",
              "</table>\n",
              "</div>\n",
              "      <button class=\"colab-df-convert\" onclick=\"convertToInteractive('df-838c5557-ffea-43bb-96b7-d1484ba24a9d')\"\n",
              "              title=\"Convert this dataframe to an interactive table.\"\n",
              "              style=\"display:none;\">\n",
              "        \n",
              "  <svg xmlns=\"http://www.w3.org/2000/svg\" height=\"24px\"viewBox=\"0 0 24 24\"\n",
              "       width=\"24px\">\n",
              "    <path d=\"M0 0h24v24H0V0z\" fill=\"none\"/>\n",
              "    <path d=\"M18.56 5.44l.94 2.06.94-2.06 2.06-.94-2.06-.94-.94-2.06-.94 2.06-2.06.94zm-11 1L8.5 8.5l.94-2.06 2.06-.94-2.06-.94L8.5 2.5l-.94 2.06-2.06.94zm10 10l.94 2.06.94-2.06 2.06-.94-2.06-.94-.94-2.06-.94 2.06-2.06.94z\"/><path d=\"M17.41 7.96l-1.37-1.37c-.4-.4-.92-.59-1.43-.59-.52 0-1.04.2-1.43.59L10.3 9.45l-7.72 7.72c-.78.78-.78 2.05 0 2.83L4 21.41c.39.39.9.59 1.41.59.51 0 1.02-.2 1.41-.59l7.78-7.78 2.81-2.81c.8-.78.8-2.07 0-2.86zM5.41 20L4 18.59l7.72-7.72 1.47 1.35L5.41 20z\"/>\n",
              "  </svg>\n",
              "      </button>\n",
              "      \n",
              "  <style>\n",
              "    .colab-df-container {\n",
              "      display:flex;\n",
              "      flex-wrap:wrap;\n",
              "      gap: 12px;\n",
              "    }\n",
              "\n",
              "    .colab-df-convert {\n",
              "      background-color: #E8F0FE;\n",
              "      border: none;\n",
              "      border-radius: 50%;\n",
              "      cursor: pointer;\n",
              "      display: none;\n",
              "      fill: #1967D2;\n",
              "      height: 32px;\n",
              "      padding: 0 0 0 0;\n",
              "      width: 32px;\n",
              "    }\n",
              "\n",
              "    .colab-df-convert:hover {\n",
              "      background-color: #E2EBFA;\n",
              "      box-shadow: 0px 1px 2px rgba(60, 64, 67, 0.3), 0px 1px 3px 1px rgba(60, 64, 67, 0.15);\n",
              "      fill: #174EA6;\n",
              "    }\n",
              "\n",
              "    [theme=dark] .colab-df-convert {\n",
              "      background-color: #3B4455;\n",
              "      fill: #D2E3FC;\n",
              "    }\n",
              "\n",
              "    [theme=dark] .colab-df-convert:hover {\n",
              "      background-color: #434B5C;\n",
              "      box-shadow: 0px 1px 3px 1px rgba(0, 0, 0, 0.15);\n",
              "      filter: drop-shadow(0px 1px 2px rgba(0, 0, 0, 0.3));\n",
              "      fill: #FFFFFF;\n",
              "    }\n",
              "  </style>\n",
              "\n",
              "      <script>\n",
              "        const buttonEl =\n",
              "          document.querySelector('#df-838c5557-ffea-43bb-96b7-d1484ba24a9d button.colab-df-convert');\n",
              "        buttonEl.style.display =\n",
              "          google.colab.kernel.accessAllowed ? 'block' : 'none';\n",
              "\n",
              "        async function convertToInteractive(key) {\n",
              "          const element = document.querySelector('#df-838c5557-ffea-43bb-96b7-d1484ba24a9d');\n",
              "          const dataTable =\n",
              "            await google.colab.kernel.invokeFunction('convertToInteractive',\n",
              "                                                     [key], {});\n",
              "          if (!dataTable) return;\n",
              "\n",
              "          const docLinkHtml = 'Like what you see? Visit the ' +\n",
              "            '<a target=\"_blank\" href=https://colab.research.google.com/notebooks/data_table.ipynb>data table notebook</a>'\n",
              "            + ' to learn more about interactive tables.';\n",
              "          element.innerHTML = '';\n",
              "          dataTable['output_type'] = 'display_data';\n",
              "          await google.colab.output.renderOutput(dataTable, element);\n",
              "          const docLink = document.createElement('div');\n",
              "          docLink.innerHTML = docLinkHtml;\n",
              "          element.appendChild(docLink);\n",
              "        }\n",
              "      </script>\n",
              "    </div>\n",
              "  </div>\n",
              "  "
            ]
          },
          "metadata": {},
          "execution_count": 25
        }
      ]
    },
    {
      "cell_type": "code",
      "source": [
        "# check for missing data\n",
        "data.isnull().sum()"
      ],
      "metadata": {
        "colab": {
          "base_uri": "https://localhost:8080/"
        },
        "id": "PRM0EtrlN3Yn",
        "outputId": "54f6f71c-a29f-4d8f-ab45-6baae6db42be"
      },
      "execution_count": 26,
      "outputs": [
        {
          "output_type": "execute_result",
          "data": {
            "text/plain": [
              "price           0\n",
              "market_cap      1\n",
              "total_volume    0\n",
              "dtype: int64"
            ]
          },
          "metadata": {},
          "execution_count": 26
        }
      ]
    },
    {
      "cell_type": "code",
      "source": [
        "# check distribution of each feature\n",
        "import matplotlib.pyplot as plt\n",
        "from matplotlib.pyplot import figure\n",
        "import seaborn as sns\n",
        "for i in data:\n",
        "        fig, axs = plt.subplots(1,2,figsize=(15, 3))\n",
        "        sns.histplot(data[i],bins=20, kde=True,ax=axs[0])\n",
        "        sns.boxplot(data[i], ax = axs[1], color='#99befd', fliersize=1);\n",
        "        plt.show()\n",
        "        plt.close()"
      ],
      "metadata": {
        "colab": {
          "base_uri": "https://localhost:8080/",
          "height": 767
        },
        "id": "1v0ZZ0vAOeey",
        "outputId": "dbc40338-49bb-40fd-e012-9d68fafde8b6"
      },
      "execution_count": 27,
      "outputs": [
        {
          "output_type": "stream",
          "name": "stderr",
          "text": [
            "/usr/local/lib/python3.7/dist-packages/seaborn/_decorators.py:43: FutureWarning: Pass the following variable as a keyword arg: x. From version 0.12, the only valid positional argument will be `data`, and passing other arguments without an explicit keyword will result in an error or misinterpretation.\n",
            "  FutureWarning\n"
          ]
        },
        {
          "output_type": "display_data",
          "data": {
            "text/plain": [
              "<Figure size 1080x216 with 2 Axes>"
            ],
            "image/png": "[encoded data removed]"
          },
          "metadata": {
            "needs_background": "light"
          }
        },
        {
          "output_type": "stream",
          "name": "stderr",
          "text": [
            "/usr/local/lib/python3.7/dist-packages/seaborn/_decorators.py:43: FutureWarning: Pass the following variable as a keyword arg: x. From version 0.12, the only valid positional argument will be `data`, and passing other arguments without an explicit keyword will result in an error or misinterpretation.\n",
            "  FutureWarning\n"
          ]
        },
        {
          "output_type": "display_data",
          "data": {
            "text/plain": [
              "<Figure size 1080x216 with 2 Axes>"
            ],
            "image/png": "[encoded data removed]"
          },
          "metadata": {
            "needs_background": "light"
          }
        },
        {
          "output_type": "stream",
          "name": "stderr",
          "text": [
            "/usr/local/lib/python3.7/dist-packages/seaborn/_decorators.py:43: FutureWarning: Pass the following variable as a keyword arg: x. From version 0.12, the only valid positional argument will be `data`, and passing other arguments without an explicit keyword will result in an error or misinterpretation.\n",
            "  FutureWarning\n"
          ]
        },
        {
          "output_type": "display_data",
          "data": {
            "text/plain": [
              "<Figure size 1080x216 with 2 Axes>"
            ],
            "image/png": "[encoded data removed]"
          },
          "metadata": {
            "needs_background": "light"
          }
        }
      ]
    },
    {
      "cell_type": "code",
      "source": [
        "data=data.interpolate()\n",
        "data.isnull().sum()"
      ],
      "metadata": {
        "colab": {
          "base_uri": "https://localhost:8080/"
        },
        "id": "8V3VKTLvN8sO",
        "outputId": "41aa7746-e7c1-403e-ba85-e18d504df087"
      },
      "execution_count": 28,
      "outputs": [
        {
          "output_type": "execute_result",
          "data": {
            "text/plain": [
              "price           0\n",
              "market_cap      0\n",
              "total_volume    0\n",
              "dtype: int64"
            ]
          },
          "metadata": {},
          "execution_count": 28
        }
      ]
    },
    {
      "cell_type": "code",
      "source": [
        "#check for correlation between features\n",
        "import numpy as np\n",
        "fig, ax = plt.subplots(figsize=(20,10))\n",
        "mask = np.triu(np.ones_like(data.corr(), dtype=np.bool))\n",
        "sns.heatmap(data.corr(), annot=True, cmap=\"Reds\", mask=mask, linewidth=0.5)\n",
        "plt.show()"
      ],
      "metadata": {
        "colab": {
          "base_uri": "https://localhost:8080/",
          "height": 627
        },
        "id": "9TWtWTCRSp71",
        "outputId": "2254aef4-6895-4371-c6af-b8bfdb76ad9e"
      },
      "execution_count": 29,
      "outputs": [
        {
          "output_type": "stream",
          "name": "stderr",
          "text": [
            "/usr/local/lib/python3.7/dist-packages/ipykernel_launcher.py:4: DeprecationWarning: `np.bool` is a deprecated alias for the builtin `bool`. To silence this warning, use `bool` by itself. Doing this will not modify any behavior and is safe. If you specifically wanted the numpy scalar type, use `np.bool_` here.\n",
            "Deprecated in NumPy 1.20; for more details and guidance: https://numpy.org/devdocs/release/1.20.0-notes.html#deprecations\n",
            "  after removing the cwd from sys.path.\n"
          ]
        },
        {
          "output_type": "display_data",
          "data": {
            "text/plain": [
              "<Figure size 1440x720 with 2 Axes>"
            ],
            "image/png": "[encoded data removed]"
          },
          "metadata": {
            "needs_background": "light"
          }
        }
      ]
    },
    {
      "cell_type": "markdown",
      "source": [
        "There is strong correlation between price and market cap"
      ],
      "metadata": {
        "id": "4zwF7FKATQsA"
      }
    },
    {
      "cell_type": "code",
      "source": [
        "X = data.drop(['price'], axis=1)\n",
        "y = data[['price']]"
      ],
      "metadata": {
        "id": "aFHUPhixTPZN"
      },
      "execution_count": 30,
      "outputs": []
    },
    {
      "cell_type": "code",
      "source": [
        "from sklearn.model_selection import train_test_split\n",
        "\n",
        "def train_val_test_split(data, y, test_ratio):\n",
        "    val_ratio = test_ratio / (1 - test_ratio)\n",
        "    X_train, X_test, y_train, y_test = train_test_split(X, y, test_size=test_ratio, shuffle=False)\n",
        "    X_train, X_val, y_train, y_val = train_test_split(X_train, y_train, test_size=val_ratio, shuffle=False)\n",
        "    return X_train, X_val, X_test, y_train, y_val, y_test\n",
        "\n",
        "X_train, X_val, X_test, y_train, y_val, y_test = train_val_test_split(data, y, 0.2)\n"
      ],
      "metadata": {
        "id": "3LGlB7-dUPWi"
      },
      "execution_count": 31,
      "outputs": []
    },
    {
      "cell_type": "code",
      "source": [
        "print(X_train.shape, y_train.shape)\n",
        "print(X_test.shape, y_test.shape)\n",
        "print(X_val.shape, y_val.shape)"
      ],
      "metadata": {
        "colab": {
          "base_uri": "https://localhost:8080/"
        },
        "id": "-zEAbgrCVlCA",
        "outputId": "3c75a449-f3bf-4b8f-f5f6-d3f8422d7671"
      },
      "execution_count": 32,
      "outputs": [
        {
          "output_type": "stream",
          "name": "stdout",
          "text": [
            "(2001, 2) (2001, 1)\n",
            "(668, 2) (668, 1)\n",
            "(667, 2) (667, 1)\n"
          ]
        }
      ]
    },
    {
      "cell_type": "code",
      "source": [
        "# feature scaling \n",
        "from sklearn.preprocessing import MinMaxScaler, StandardScaler\n",
        "def get_scaler(scaler):\n",
        "    scalers = {\n",
        "        \"minmax\": MinMaxScaler,\n",
        "        \"ss\": StandardScaler\n",
        "    }\n",
        "    return scalers.get(scaler.lower())()\n",
        "scaler = get_scaler('ss')\n",
        "X_train_ = scaler.fit_transform(X_train)\n",
        "X_test_ = scaler.transform(X_test)\n",
        "X_val_ = scaler.transform(X_val)\n",
        "\n",
        "y_train_ = scaler.fit_transform(y_train)\n",
        "y_val_ = scaler.transform(y_val)\n",
        "y_test_ = scaler.transform(y_test)"
      ],
      "metadata": {
        "id": "pa1y1AS4V40p"
      },
      "execution_count": 33,
      "outputs": []
    },
    {
      "cell_type": "code",
      "source": [
        "import torch\n",
        "import torch.nn as nn\n",
        "import torch.nn.functional as F\n",
        "from torch.utils.data import TensorDataset, DataLoader\n",
        "\n",
        "batch_size = 64\n",
        "\n",
        "train_features = torch.Tensor(X_train_)\n",
        "train_targets = torch.Tensor(y_train_)\n",
        "val_features = torch.Tensor(X_val_)\n",
        "val_targets = torch.Tensor(y_val_)\n",
        "test_features = torch.Tensor(X_test_)\n",
        "test_targets = torch.Tensor(y_test_)\n",
        "\n",
        "train = TensorDataset(train_features, train_targets)\n",
        "val = TensorDataset(val_features, val_targets)\n",
        "test = TensorDataset(test_features, test_targets)\n",
        "\n",
        "train_loader = DataLoader(train, batch_size=batch_size, shuffle=False, drop_last=True)\n",
        "val_loader = DataLoader(val, batch_size=batch_size, shuffle=False, drop_last=True)\n",
        "test_loader = DataLoader(test, batch_size=batch_size, shuffle=False, drop_last=True)\n",
        "test_loader_one = DataLoader(test, batch_size=1, shuffle=False, drop_last=True)"
      ],
      "metadata": {
        "id": "txCA2lGpZ-zy"
      },
      "execution_count": 34,
      "outputs": []
    },
    {
      "cell_type": "markdown",
      "source": [
        "myLSTM class initiates a LSTM module based on PyTorch's nn.Module class.\n",
        "\n",
        "       Attributes:\n",
        "           hidden_dim (int): The number of nodes in each layer\n",
        "           layer_dim (str): The number of layers in the network\n",
        "           lstm (nn.LSTM): The LSTM model constructed with the input parameters.\n",
        "           fc (nn.Linear): The fully connected layer to convert the final state of LSTMs to our desired output shape.\n",
        "\n",
        "The __init__ method that initiates a LSTM instance.\n",
        "\n",
        "        Args:\n",
        "            input_dim (int): The number of nodes in the input layer\n",
        "            hidden_dim (int): The number of nodes in each layer\n",
        "            layer_dim (int): The number of layers in the network\n",
        "            output_dim (int): The number of nodes in the output layer\n",
        "            dropout_prob (float): The probability of nodes being dropped out\n",
        "\n",
        "        \n",
        "The forward method takes input tensor x and does forward propagation\n",
        "\n",
        "        Args:\n",
        "            x (torch.Tensor): The input tensor of the shape (batch size, sequence length, input_dim)\n",
        "\n",
        "        Returns:\n",
        "            torch.Tensor: The output tensor of the shape (batch size, output_dim)\n",
        "\n",
        "       "
      ],
      "metadata": {
        "id": "75ItSecBaYaF"
      }
    },
    {
      "cell_type": "code",
      "source": [
        "class myLSTM(nn.Module):\n",
        "    def __init__(self, input_dim, hidden_dim, layer_dim, output_dim, dropout_prob):\n",
        "        super(myLSTM, self).__init__()\n",
        "        self.hidden_dim = hidden_dim\n",
        "        self.layer_dim = layer_dim\n",
        "        self.lstm = nn.LSTM(\n",
        "            input_dim, hidden_dim, layer_dim, batch_first=True, dropout=dropout_prob\n",
        "        )\n",
        "        # Fully connected layer\n",
        "        self.fc = nn.Linear(hidden_dim, output_dim)\n",
        "\n",
        "    def forward(self, x):\n",
        "        # Initializing hidden state for first input with zeros\n",
        "        h0 = torch.zeros(self.layer_dim, x.size(0), self.hidden_dim).requires_grad_()\n",
        "\n",
        "        # Initializing cell state for first input with zeros\n",
        "        c0 = torch.zeros(self.layer_dim, x.size(0), self.hidden_dim).requires_grad_()\n",
        "        \n",
        "        # Forward propagation by passing in the input, hidden state, and cell state into the model\n",
        "        out, (hn, cn) = self.lstm(x, (h0.detach(), c0.detach()))\n",
        "\n",
        "        # Reshaping the outputs in the shape of (batch_size, seq_length, hidden_size)\n",
        "        # so that it can fit into the fully connected layer\n",
        "        out = out[:, -1, :]\n",
        "        out = F.relu(out)\n",
        "        out = self.fc(out)\n",
        "        return out"
      ],
      "metadata": {
        "id": "rwL5HiEydfXi"
      },
      "execution_count": 35,
      "outputs": []
    },
    {
      "cell_type": "code",
      "source": [
        "def get_model(model, model_params):\n",
        "    models = {\"lstm\": myLSTM }\n",
        "    return models.get(model.lower())(**model_params)"
      ],
      "metadata": {
        "id": "Kdsp5oGQdrWP"
      },
      "execution_count": 36,
      "outputs": []
    },
    {
      "cell_type": "markdown",
      "source": [
        "Optimization is a helper class that allows training, validation, prediction.\n",
        "\n",
        "    Optimization is a helper class that takes model, loss function, optimizer function and provides a framework to train and validate the models, and to predict future values based on the models.\n",
        "\n",
        "    Attributes:\n",
        "        model (myLSTM): Model class created for the type of myLSTM\n",
        "        loss_fn (torch.nn.modules.Loss): Loss function to calculate the losses\n",
        "        optimizer (torch.optim.Optimizer): Optimizer function to optimize the loss function\n",
        "        train_losses (list[float]): The loss values from the training\n",
        "        val_losses (list[float]): The loss values from the validation\n",
        "        last_epoch (int): The number of epochs that the models is trained\n",
        "\n",
        "\n",
        "The function train_step completes one step of training.\n",
        "\n",
        "        Given the features (x) and the target values (y) tensors, the function completes\n",
        "        one step of the training. First, it activates the train mode to enable back prop.\n",
        "        After generating predicted values (yhat) by doing forward propagation, it calculates\n",
        "        the losses by using the loss function. Then, it computes the gradients by doing\n",
        "        back propagation and updates the weights by calling step() function.\n",
        "\n",
        "        Args:\n",
        "            x (torch.Tensor): Tensor for features to train one step\n",
        "            y (torch.Tensor): Tensor for target values to calculate losses\n",
        "\n",
        "\n",
        "The function train performs the model training\n",
        "\n",
        "        The function takes DataLoaders for training and validation datasets, batch size for mini-batch training, number of epochs to train, and number of features as inputs.\n",
        "        Then, it carries out the training by iteratively calling the function train_step for n_epochs times. If early stopping is enabled, then it  checks the stopping condition to decide whether the training needs to halt before n_epochs steps. \n",
        "\n",
        "        Args:\n",
        "            train_loader (torch.utils.data.DataLoader): DataLoader that stores training data\n",
        "            val_loader (torch.utils.data.DataLoader): DataLoader that stores validation data\n",
        "            batch_size (int): Batch size for mini-batch training\n",
        "            n_epochs (int): Number of epochs, i.e., train steps, to train\n",
        "            n_features (int): Number of feature columns\n",
        "\n",
        "\n",
        "The function evaluate performs the model evaluation\n",
        "\n",
        "        The function takes DataLoaders for the test dataset, batch size for mini-batch testing, and number of features as inputs. It iteratively predicts the target values and calculates losses. Then, it returns two lists that hold the predictions and the actual values.\n",
        "This function assumes that the prediction from the previous step is available at the time of the prediction, and only does one-step prediction into the future.\n",
        "\n",
        "        Args:\n",
        "            test_loader (torch.utils.data.DataLoader): DataLoader that stores test data\n",
        "            batch_size (int): Batch size for mini-batch training\n",
        "            n_features (int): Number of feature columns\n",
        "\n",
        "        Returns:\n",
        "            list[float]: The values predicted by the model\n",
        "            list[float]: The actual values in the test set.\n",
        "\n",
        "\n",
        "The function plot_losses plots the calculated loss values for training and validation\n"
      ],
      "metadata": {
        "id": "xvu7QL4mgGyY"
      }
    },
    {
      "cell_type": "code",
      "source": [
        "class Optimization:\n",
        "    def __init__(self, model, loss_fn, optimizer):\n",
        "        self.model = model\n",
        "        self.loss_fn = loss_fn\n",
        "        self.optimizer = optimizer\n",
        "        self.train_losses = []\n",
        "        self.val_losses = []\n",
        "        \n",
        "    def train_step(self, x, y):\n",
        "        self.model.train() # Sets model to train mode\n",
        "        yhat = self.model(x) # Makes predictions\n",
        "        loss = self.loss_fn(y, yhat) # Computes loss\n",
        "        loss.backward() # Computes gradients\n",
        "        self.optimizer.step() # Updates parameters and zeroes gradients\n",
        "        self.optimizer.zero_grad()\n",
        "        return loss.item() # Returns the loss\n",
        "\n",
        "    def train(self, train_loader, val_loader, batch_size=64, n_epochs=50, n_features=2):\n",
        "        model_path = f'{self.model}_{datetime.now().strftime(\"%Y-%m-%d %H:%M:%S\")}'\n",
        "\n",
        "        for epoch in range(1, n_epochs + 1):\n",
        "            batch_losses = []\n",
        "            for x_batch, y_batch in train_loader:\n",
        "                x_batch = x_batch.view([batch_size, -1, n_features]).to(device)\n",
        "                y_batch = y_batch.to(device)\n",
        "                loss = self.train_step(x_batch, y_batch)\n",
        "                batch_losses.append(loss)\n",
        "            training_loss = np.mean(batch_losses)\n",
        "            self.train_losses.append(training_loss)\n",
        "\n",
        "            with torch.no_grad():\n",
        "                batch_val_losses = []\n",
        "                for x_val, y_val in val_loader:\n",
        "                    x_val = x_val.view([batch_size, -1, n_features]).to(device)\n",
        "                    y_val = y_val.to(device)\n",
        "                    self.model.eval()\n",
        "                    yhat = self.model(x_val)\n",
        "                    val_loss = self.loss_fn(y_val, yhat).item()\n",
        "                    batch_val_losses.append(val_loss)\n",
        "                validation_loss = np.mean(batch_val_losses)\n",
        "                self.val_losses.append(validation_loss)\n",
        "\n",
        "            if (epoch <= 50) | (epoch % 100 == 0):\n",
        "                print(\n",
        "                    f\"[{epoch}/{n_epochs}] Training loss: {training_loss:.4f}\\t Validation loss: {validation_loss:.4f}\"\n",
        "                )\n",
        "\n",
        "        torch.save(self.model.state_dict(), model_path)\n",
        "\n",
        "    def evaluate(self, test_loader, batch_size=1, n_features=2):\n",
        "        with torch.no_grad():\n",
        "            predictions = []\n",
        "            values = []\n",
        "            for x_test, y_test in test_loader:\n",
        "                x_test = x_test.view([batch_size, -1, n_features]).to(device)\n",
        "                y_test = y_test.to(device)\n",
        "                self.model.eval()\n",
        "                yhat = self.model(x_test)\n",
        "                predictions.append(yhat.to(device).detach().numpy())\n",
        "                values.append(y_test.to(device).detach().numpy())\n",
        "\n",
        "        return predictions, values\n",
        "\n",
        "    def plot_losses(self):\n",
        "        figure(figsize=(20, 10), dpi=80)\n",
        "        plt.plot(self.train_losses, label=\"Training loss\")\n",
        "        plt.plot(self.val_losses, label=\"Validation loss\")\n",
        "        plt.legend()\n",
        "        plt.title(\"Losses\")\n",
        "        plt.show()\n",
        "        plt.close()"
      ],
      "metadata": {
        "id": "VUTkWuI3dvn8"
      },
      "execution_count": 37,
      "outputs": []
    },
    {
      "cell_type": "code",
      "source": [
        "import torch.optim as optim\n",
        "from datetime import datetime\n",
        "device = \"cuda\" if torch.cuda.is_available() else \"cpu\"\n",
        "\n",
        "input_dim = len(X_train.columns)\n",
        "output_dim = 1\n",
        "hidden_dim = 256\n",
        "layer_dim = 2\n",
        "batch_size = 64\n",
        "dropout = 0.2\n",
        "n_epochs = 200\n",
        "learning_rate = 1e-3\n",
        "weight_decay = 1e-3\n",
        "\n",
        "model_params = {'input_dim': input_dim,\n",
        "                'hidden_dim' : hidden_dim,\n",
        "                'layer_dim' : layer_dim,\n",
        "                'output_dim' : output_dim,\n",
        "                'dropout_prob' : dropout}\n",
        "\n",
        "model = get_model('lstm', model_params)\n",
        "\n",
        "loss_fn = nn.MSELoss(reduction=\"mean\")\n",
        "optimizer = optim.Adam(model.parameters(), lr=learning_rate, weight_decay=weight_decay)\n",
        "\n",
        "\n",
        "opt = Optimization(model=model, loss_fn=loss_fn, optimizer=optimizer)\n",
        "opt.train(train_loader, val_loader, batch_size=batch_size, n_epochs=n_epochs, n_features=input_dim)\n",
        "opt.plot_losses()\n",
        "\n",
        "predictions, values = opt.evaluate(\n",
        "    test_loader_one,\n",
        "    batch_size=1,\n",
        "    n_features=input_dim\n",
        ")"
      ],
      "metadata": {
        "colab": {
          "base_uri": "https://localhost:8080/",
          "height": 1000
        },
        "id": "xO6ydwqadzvv",
        "outputId": "b02ded97-d8c5-4cf0-e219-de7fe066a78e"
      },
      "execution_count": 38,
      "outputs": [
        {
          "output_type": "stream",
          "name": "stdout",
          "text": [
            "[1/200] Training loss: 1.0122\t Validation loss: 2.8187\n",
            "[2/200] Training loss: 0.8527\t Validation loss: 2.1555\n",
            "[3/200] Training loss: 0.6795\t Validation loss: 0.7351\n",
            "[4/200] Training loss: 0.3466\t Validation loss: 0.5181\n",
            "[5/200] Training loss: 0.1303\t Validation loss: 2.9639\n",
            "[6/200] Training loss: 0.0733\t Validation loss: 2.7764\n",
            "[7/200] Training loss: 0.0434\t Validation loss: 1.9674\n",
            "[8/200] Training loss: 0.0235\t Validation loss: 1.0631\n",
            "[9/200] Training loss: 0.0238\t Validation loss: 0.5147\n",
            "[10/200] Training loss: 0.0129\t Validation loss: 0.2330\n",
            "[11/200] Training loss: 0.0234\t Validation loss: 0.1795\n",
            "[12/200] Training loss: 0.0161\t Validation loss: 0.0969\n",
            "[13/200] Training loss: 0.0941\t Validation loss: 0.0836\n",
            "[14/200] Training loss: 0.0939\t Validation loss: 0.2292\n",
            "[15/200] Training loss: 0.2495\t Validation loss: 1.0289\n",
            "[16/200] Training loss: 0.0362\t Validation loss: 0.4861\n",
            "[17/200] Training loss: 0.0380\t Validation loss: 0.0666\n",
            "[18/200] Training loss: 0.0170\t Validation loss: 0.1550\n",
            "[19/200] Training loss: 0.0290\t Validation loss: 0.1041\n",
            "[20/200] Training loss: 0.0158\t Validation loss: 0.1007\n",
            "[21/200] Training loss: 0.0369\t Validation loss: 0.1352\n",
            "[22/200] Training loss: 0.0245\t Validation loss: 0.1003\n",
            "[23/200] Training loss: 0.0693\t Validation loss: 0.2337\n",
            "[24/200] Training loss: 0.0433\t Validation loss: 0.1281\n",
            "[25/200] Training loss: 0.1034\t Validation loss: 0.3730\n",
            "[26/200] Training loss: 0.0404\t Validation loss: 0.1736\n",
            "[27/200] Training loss: 0.0736\t Validation loss: 0.2780\n",
            "[28/200] Training loss: 0.0292\t Validation loss: 0.1327\n",
            "[29/200] Training loss: 0.0522\t Validation loss: 0.2025\n",
            "[30/200] Training loss: 0.0240\t Validation loss: 0.1111\n",
            "[31/200] Training loss: 0.0458\t Validation loss: 0.1933\n",
            "[32/200] Training loss: 0.0250\t Validation loss: 0.0951\n",
            "[33/200] Training loss: 0.0523\t Validation loss: 0.2181\n",
            "[34/200] Training loss: 0.0298\t Validation loss: 0.1040\n",
            "[35/200] Training loss: 0.0611\t Validation loss: 0.2466\n",
            "[36/200] Training loss: 0.0325\t Validation loss: 0.1075\n",
            "[37/200] Training loss: 0.0634\t Validation loss: 0.2682\n",
            "[38/200] Training loss: 0.0309\t Validation loss: 0.1108\n",
            "[39/200] Training loss: 0.0550\t Validation loss: 0.2328\n",
            "[40/200] Training loss: 0.0287\t Validation loss: 0.0954\n",
            "[41/200] Training loss: 0.0518\t Validation loss: 0.2077\n",
            "[42/200] Training loss: 0.0280\t Validation loss: 0.0969\n",
            "[43/200] Training loss: 0.0524\t Validation loss: 0.2190\n",
            "[44/200] Training loss: 0.0288\t Validation loss: 0.0968\n",
            "[45/200] Training loss: 0.0525\t Validation loss: 0.2313\n",
            "[46/200] Training loss: 0.0281\t Validation loss: 0.0960\n",
            "[47/200] Training loss: 0.0497\t Validation loss: 0.2151\n",
            "[48/200] Training loss: 0.0266\t Validation loss: 0.0991\n",
            "[49/200] Training loss: 0.0471\t Validation loss: 0.1868\n",
            "[50/200] Training loss: 0.0271\t Validation loss: 0.0887\n",
            "[100/200] Training loss: 0.0278\t Validation loss: 0.0781\n",
            "[200/200] Training loss: 0.0263\t Validation loss: 0.0638\n"
          ]
        },
        {
          "output_type": "display_data",
          "data": {
            "text/plain": [
              "<Figure size 1600x800 with 1 Axes>"
            ],
            "image/png": "[encoded data removed]"
          },
          "metadata": {
            "needs_background": "light"
          }
        }
      ]
    },
    {
      "cell_type": "code",
      "source": [
        "def inverse_transform(scaler, data, columns):\n",
        "    for col in columns:\n",
        "        data[col] = scaler.inverse_transform(data[col])\n",
        "    return data\n",
        "\n",
        "\n",
        "def format_predictions(predictions, values, data_test, scaler):\n",
        "    vals = np.concatenate(values, axis=0).ravel()\n",
        "    preds = np.concatenate(predictions, axis=0).ravel()\n",
        "    data_result = pd.DataFrame(data={\"value\": vals, \"prediction\": preds}, index=data_test.head(len(vals)).index)\n",
        "    data_result = data_result.sort_index()\n",
        "    data_result = inverse_transform(scaler, data_result, [[\"value\", \"prediction\"]])\n",
        "    return data_result\n",
        "\n",
        "\n",
        "data_result = format_predictions(predictions, values, X_test, scaler)\n",
        "data_result"
      ],
      "metadata": {
        "id": "P9Xiu_sKeadK",
        "colab": {
          "base_uri": "https://localhost:8080/",
          "height": 455
        },
        "outputId": "d585cc7f-f6e8-4097-ec85-d30156e479a8"
      },
      "execution_count": 42,
      "outputs": [
        {
          "output_type": "execute_result",
          "data": {
            "text/plain": [
              "                                value    prediction\n",
              "snapped_at                                         \n",
              "2020-08-19 00:00:00 UTC  11949.611328  13547.752930\n",
              "2020-08-20 00:00:00 UTC  11733.279297  13353.299805\n",
              "2020-08-21 00:00:00 UTC  11861.836914  13546.083008\n",
              "2020-08-22 00:00:00 UTC  11515.125000  13144.937500\n",
              "2020-08-23 00:00:00 UTC  11676.385742  13375.995117\n",
              "...                               ...           ...\n",
              "2022-06-13 00:00:00 UTC  26767.269531  21459.050781\n",
              "2022-06-14 00:00:00 UTC  22525.769531  19634.150391\n",
              "2022-06-15 00:00:00 UTC  22244.849609  20012.626953\n",
              "2022-06-16 00:00:00 UTC  22529.197266  20057.863281\n",
              "2022-06-17 00:00:00 UTC  20408.691406  19487.115234\n",
              "\n",
              "[668 rows x 2 columns]"
            ],
            "text/html": [
              "\n",
              "  <div id=\"df-e8cd0305-d14e-416a-aa3e-44a8f318f723\">\n",
              "    <div class=\"colab-df-container\">\n",
              "      <div>\n",
              "<style scoped>\n",
              "    .dataframe tbody tr th:only-of-type {\n",
              "        vertical-align: middle;\n",
              "    }\n",
              "\n",
              "    .dataframe tbody tr th {\n",
              "        vertical-align: top;\n",
              "    }\n",
              "\n",
              "    .dataframe thead th {\n",
              "        text-align: right;\n",
              "    }\n",
              "</style>\n",
              "<table border=\"1\" class=\"dataframe\">\n",
              "  <thead>\n",
              "    <tr style=\"text-align: right;\">\n",
              "      <th></th>\n",
              "      <th>value</th>\n",
              "      <th>prediction</th>\n",
              "    </tr>\n",
              "    <tr>\n",
              "      <th>snapped_at</th>\n",
              "      <th></th>\n",
              "      <th></th>\n",
              "    </tr>\n",
              "  </thead>\n",
              "  <tbody>\n",
              "    <tr>\n",
              "      <th>2020-08-19 00:00:00 UTC</th>\n",
              "      <td>11949.611328</td>\n",
              "      <td>13547.752930</td>\n",
              "    </tr>\n",
              "    <tr>\n",
              "      <th>2020-08-20 00:00:00 UTC</th>\n",
              "      <td>11733.279297</td>\n",
              "      <td>13353.299805</td>\n",
              "    </tr>\n",
              "    <tr>\n",
              "      <th>2020-08-21 00:00:00 UTC</th>\n",
              "      <td>11861.836914</td>\n",
              "      <td>13546.083008</td>\n",
              "    </tr>\n",
              "    <tr>\n",
              "      <th>2020-08-22 00:00:00 UTC</th>\n",
              "      <td>11515.125000</td>\n",
              "      <td>13144.937500</td>\n",
              "    </tr>\n",
              "    <tr>\n",
              "      <th>2020-08-23 00:00:00 UTC</th>\n",
              "      <td>11676.385742</td>\n",
              "      <td>13375.995117</td>\n",
              "    </tr>\n",
              "    <tr>\n",
              "      <th>...</th>\n",
              "      <td>...</td>\n",
              "      <td>...</td>\n",
              "    </tr>\n",
              "    <tr>\n",
              "      <th>2022-06-13 00:00:00 UTC</th>\n",
              "      <td>26767.269531</td>\n",
              "      <td>21459.050781</td>\n",
              "    </tr>\n",
              "    <tr>\n",
              "      <th>2022-06-14 00:00:00 UTC</th>\n",
              "      <td>22525.769531</td>\n",
              "      <td>19634.150391</td>\n",
              "    </tr>\n",
              "    <tr>\n",
              "      <th>2022-06-15 00:00:00 UTC</th>\n",
              "      <td>22244.849609</td>\n",
              "      <td>20012.626953</td>\n",
              "    </tr>\n",
              "    <tr>\n",
              "      <th>2022-06-16 00:00:00 UTC</th>\n",
              "      <td>22529.197266</td>\n",
              "      <td>20057.863281</td>\n",
              "    </tr>\n",
              "    <tr>\n",
              "      <th>2022-06-17 00:00:00 UTC</th>\n",
              "      <td>20408.691406</td>\n",
              "      <td>19487.115234</td>\n",
              "    </tr>\n",
              "  </tbody>\n",
              "</table>\n",
              "<p>668 rows × 2 columns</p>\n",
              "</div>\n",
              "      <button class=\"colab-df-convert\" onclick=\"convertToInteractive('df-e8cd0305-d14e-416a-aa3e-44a8f318f723')\"\n",
              "              title=\"Convert this dataframe to an interactive table.\"\n",
              "              style=\"display:none;\">\n",
              "        \n",
              "  <svg xmlns=\"http://www.w3.org/2000/svg\" height=\"24px\"viewBox=\"0 0 24 24\"\n",
              "       width=\"24px\">\n",
              "    <path d=\"M0 0h24v24H0V0z\" fill=\"none\"/>\n",
              "    <path d=\"M18.56 5.44l.94 2.06.94-2.06 2.06-.94-2.06-.94-.94-2.06-.94 2.06-2.06.94zm-11 1L8.5 8.5l.94-2.06 2.06-.94-2.06-.94L8.5 2.5l-.94 2.06-2.06.94zm10 10l.94 2.06.94-2.06 2.06-.94-2.06-.94-.94-2.06-.94 2.06-2.06.94z\"/><path d=\"M17.41 7.96l-1.37-1.37c-.4-.4-.92-.59-1.43-.59-.52 0-1.04.2-1.43.59L10.3 9.45l-7.72 7.72c-.78.78-.78 2.05 0 2.83L4 21.41c.39.39.9.59 1.41.59.51 0 1.02-.2 1.41-.59l7.78-7.78 2.81-2.81c.8-.78.8-2.07 0-2.86zM5.41 20L4 18.59l7.72-7.72 1.47 1.35L5.41 20z\"/>\n",
              "  </svg>\n",
              "      </button>\n",
              "      \n",
              "  <style>\n",
              "    .colab-df-container {\n",
              "      display:flex;\n",
              "      flex-wrap:wrap;\n",
              "      gap: 12px;\n",
              "    }\n",
              "\n",
              "    .colab-df-convert {\n",
              "      background-color: #E8F0FE;\n",
              "      border: none;\n",
              "      border-radius: 50%;\n",
              "      cursor: pointer;\n",
              "      display: none;\n",
              "      fill: #1967D2;\n",
              "      height: 32px;\n",
              "      padding: 0 0 0 0;\n",
              "      width: 32px;\n",
              "    }\n",
              "\n",
              "    .colab-df-convert:hover {\n",
              "      background-color: #E2EBFA;\n",
              "      box-shadow: 0px 1px 2px rgba(60, 64, 67, 0.3), 0px 1px 3px 1px rgba(60, 64, 67, 0.15);\n",
              "      fill: #174EA6;\n",
              "    }\n",
              "\n",
              "    [theme=dark] .colab-df-convert {\n",
              "      background-color: #3B4455;\n",
              "      fill: #D2E3FC;\n",
              "    }\n",
              "\n",
              "    [theme=dark] .colab-df-convert:hover {\n",
              "      background-color: #434B5C;\n",
              "      box-shadow: 0px 1px 3px 1px rgba(0, 0, 0, 0.15);\n",
              "      filter: drop-shadow(0px 1px 2px rgba(0, 0, 0, 0.3));\n",
              "      fill: #FFFFFF;\n",
              "    }\n",
              "  </style>\n",
              "\n",
              "      <script>\n",
              "        const buttonEl =\n",
              "          document.querySelector('#df-e8cd0305-d14e-416a-aa3e-44a8f318f723 button.colab-df-convert');\n",
              "        buttonEl.style.display =\n",
              "          google.colab.kernel.accessAllowed ? 'block' : 'none';\n",
              "\n",
              "        async function convertToInteractive(key) {\n",
              "          const element = document.querySelector('#df-e8cd0305-d14e-416a-aa3e-44a8f318f723');\n",
              "          const dataTable =\n",
              "            await google.colab.kernel.invokeFunction('convertToInteractive',\n",
              "                                                     [key], {});\n",
              "          if (!dataTable) return;\n",
              "\n",
              "          const docLinkHtml = 'Like what you see? Visit the ' +\n",
              "            '<a target=\"_blank\" href=https://colab.research.google.com/notebooks/data_table.ipynb>data table notebook</a>'\n",
              "            + ' to learn more about interactive tables.';\n",
              "          element.innerHTML = '';\n",
              "          dataTable['output_type'] = 'display_data';\n",
              "          await google.colab.output.renderOutput(dataTable, element);\n",
              "          const docLink = document.createElement('div');\n",
              "          docLink.innerHTML = docLinkHtml;\n",
              "          element.appendChild(docLink);\n",
              "        }\n",
              "      </script>\n",
              "    </div>\n",
              "  </div>\n",
              "  "
            ]
          },
          "metadata": {},
          "execution_count": 42
        }
      ]
    },
    {
      "cell_type": "code",
      "source": [
        "data_result.columns"
      ],
      "metadata": {
        "colab": {
          "base_uri": "https://localhost:8080/"
        },
        "id": "9bLxkm17z2pX",
        "outputId": "6491d8d8-b72a-470c-e93a-85c7af4bbfc4"
      },
      "execution_count": 40,
      "outputs": [
        {
          "output_type": "execute_result",
          "data": {
            "text/plain": [
              "Index(['value', 'prediction'], dtype='object')"
            ]
          },
          "metadata": {},
          "execution_count": 40
        }
      ]
    },
    {
      "cell_type": "code",
      "source": [
        "from sklearn.metrics import mean_absolute_error, mean_squared_error, r2_score\n",
        "\n",
        "def calculate_metrics(data):\n",
        "    result_metrics = {'mae' : mean_absolute_error(data.value, data.prediction),\n",
        "                      'rmse' : mean_squared_error(data.value, data.prediction) ** 0.5,\n",
        "                      'r2' : r2_score(data.value, data.prediction)}\n",
        "    \n",
        "    print(\"Mean Absolute Error:       \", result_metrics[\"mae\"])\n",
        "    print(\"Root Mean Squared Error:   \", result_metrics[\"rmse\"])\n",
        "    print(\"R^2 Score:                 \", result_metrics[\"r2\"])\n",
        "    return result_metrics\n",
        "\n",
        "result_metrics = calculate_metrics(data_result)\n"
      ],
      "metadata": {
        "colab": {
          "base_uri": "https://localhost:8080/"
        },
        "id": "z9g-rTHgepWv",
        "outputId": "4c984a58-bb3d-40e4-c3b4-e560c0db76d1"
      },
      "execution_count": 43,
      "outputs": [
        {
          "output_type": "stream",
          "name": "stdout",
          "text": [
            "Mean Absolute Error:        17246.549\n",
            "Root Mean Squared Error:    20615.087290622854\n",
            "R^2 Score:                  -0.9069162617219091\n"
          ]
        }
      ]
    }
  ]
}
